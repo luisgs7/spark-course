{
  "nbformat": 4,
  "nbformat_minor": 0,
  "metadata": {
    "colab": {
      "provenance": [],
      "collapsed_sections": [
        "07XsPzrrjXUt"
      ]
    },
    "kernelspec": {
      "name": "python3",
      "display_name": "Python 3"
    },
    "language_info": {
      "name": "python"
    }
  },
  "cells": [
    {
      "cell_type": "markdown",
      "source": [
        "# Setup Inicial"
      ],
      "metadata": {
        "id": "07XsPzrrjXUt"
      }
    },
    {
      "cell_type": "code",
      "execution_count": 1,
      "metadata": {
        "colab": {
          "base_uri": "https://localhost:8080/"
        },
        "id": "QoWA9SeJfSih",
        "outputId": "37950081-4d19-4e66-f98a-861487dc87c8"
      },
      "outputs": [
        {
          "output_type": "stream",
          "name": "stdout",
          "text": [
            "Looking in indexes: https://pypi.org/simple, https://us-python.pkg.dev/colab-wheels/public/simple/\n",
            "Collecting pyspark\n",
            "  Downloading pyspark-3.3.1.tar.gz (281.4 MB)\n",
            "\u001b[2K     \u001b[90m━━━━━━━━━━━━━━━━━━━━━━━━━━━━━━━━━━━━━━━\u001b[0m \u001b[32m281.4/281.4 MB\u001b[0m \u001b[31m4.3 MB/s\u001b[0m eta \u001b[36m0:00:00\u001b[0m\n",
            "\u001b[?25h  Preparing metadata (setup.py) ... \u001b[?25l\u001b[?25hdone\n",
            "Collecting py4j==0.10.9.5\n",
            "  Downloading py4j-0.10.9.5-py2.py3-none-any.whl (199 kB)\n",
            "\u001b[2K     \u001b[90m━━━━━━━━━━━━━━━━━━━━━━━━━━━━━━━━━━━━━━\u001b[0m \u001b[32m199.7/199.7 KB\u001b[0m \u001b[31m21.4 MB/s\u001b[0m eta \u001b[36m0:00:00\u001b[0m\n",
            "\u001b[?25hBuilding wheels for collected packages: pyspark\n",
            "  Building wheel for pyspark (setup.py) ... \u001b[?25l\u001b[?25hdone\n",
            "  Created wheel for pyspark: filename=pyspark-3.3.1-py2.py3-none-any.whl size=281845512 sha256=419b02e7f917605e5eda5ea84361734cae74b1ef0a96f8ba4c6c3ada97623509\n",
            "  Stored in directory: /root/.cache/pip/wheels/43/dc/11/ec201cd671da62fa9c5cc77078235e40722170ceba231d7598\n",
            "Successfully built pyspark\n",
            "Installing collected packages: py4j, pyspark\n",
            "Successfully installed py4j-0.10.9.5 pyspark-3.3.1\n",
            "Looking in indexes: https://pypi.org/simple, https://us-python.pkg.dev/colab-wheels/public/simple/\n",
            "Collecting findspark\n",
            "  Downloading findspark-2.0.1-py2.py3-none-any.whl (4.4 kB)\n",
            "Installing collected packages: findspark\n",
            "Successfully installed findspark-2.0.1\n",
            "--2023-01-06 11:45:30--  http://www.datascientist.com.br/bigdata/download.zip\n",
            "Resolving www.datascientist.com.br (www.datascientist.com.br)... 108.179.192.203\n",
            "Connecting to www.datascientist.com.br (www.datascientist.com.br)|108.179.192.203|:80... connected.\n",
            "HTTP request sent, awaiting response... 200 OK\n",
            "Length: 207452 (203K) [application/zip]\n",
            "Saving to: ‘download.zip’\n",
            "\n",
            "download.zip        100%[===================>] 202.59K   778KB/s    in 0.3s    \n",
            "\n",
            "2023-01-06 11:45:30 (778 KB/s) - ‘download.zip’ saved [207452/207452]\n",
            "\n",
            "Archive:  download.zip\n",
            "   creating: download/Atividades/\n",
            "  inflating: download/Atividades/Clientes.parquet  \n",
            "  inflating: download/Atividades/ItensVendas.parquet  \n",
            "  inflating: download/Atividades/Produtos.parquet  \n",
            "  inflating: download/Atividades/Vendas.parquet  \n",
            "  inflating: download/Atividades/Vendedores.parquet  \n",
            "  inflating: download/Carros.csv     \n",
            "  inflating: download/Churn.csv      \n",
            "   creating: download/demo/\n",
            "  inflating: download/demo/1.CreateTable.sql  \n",
            "  inflating: download/demo/2.InsertClientes.sql  \n",
            "  inflating: download/demo/3.InsertIntoProdutos.sql  \n",
            "  inflating: download/demo/4.InsertIntoVendedores.sql  \n",
            "  inflating: download/demo/5.InsertIntoVendas.sql  \n",
            "  inflating: download/demo/6.InsertItensVenda.sql  \n",
            "  inflating: download/despachantes.csv  \n",
            "  inflating: download/iris.csv       \n",
            "   creating: download/mongo/\n",
            "  inflating: download/mongo/posts.json  \n",
            "  inflating: download/reclamacoes.csv  \n",
            "   creating: download/streaming/\n",
            "  inflating: download/streaming/1.json14.json  \n",
            "  inflating: download/streaming/2.json44.json  \n",
            "  inflating: download/streaming/3.json14.json  \n",
            "  inflating: download/streaming/4.json26.json  \n",
            "  inflating: download/streaming/5.json29.json  \n",
            "  inflating: download/streaming/6.json14.json  \n",
            "  inflating: download/streaming/7.json59.json  \n"
          ]
        }
      ],
      "source": [
        "# pyspark\n",
        "!pip install pyspark\n",
        "\n",
        "# findspark\n",
        "!pip install findspark\n",
        "\n",
        "# Import das bibliotecas\n",
        "import findspark\n",
        "findspark.init()\n",
        "from pyspark.sql import SparkSession\n",
        "from pyspark.sql.types import *\n",
        "\n",
        "spark = SparkSession.builder \\\n",
        "      .master(\"local[1]\") \\\n",
        "      .appName(\"SparkByExamples.com\") \\\n",
        "      .getOrCreate()\n",
        "\n",
        "\n",
        "# Download dos arquivos\n",
        "!wget www.datascientist.com.br/bigdata/download.zip\n",
        "\n",
        "# Extrair os arquivos\n",
        "!unzip download.zip"
      ]
    },
    {
      "cell_type": "markdown",
      "source": [
        "## Listar os banco de dados do spark"
      ],
      "metadata": {
        "id": "VyKRdVuIkYsb"
      }
    },
    {
      "cell_type": "code",
      "source": [
        "spark.sql(\"show databases\").show()"
      ],
      "metadata": {
        "colab": {
          "base_uri": "https://localhost:8080/"
        },
        "id": "r-k_s4Qgjfn7",
        "outputId": "f413a303-d698-44c4-c99f-8eab9c779c6d"
      },
      "execution_count": 2,
      "outputs": [
        {
          "output_type": "stream",
          "name": "stdout",
          "text": [
            "+---------+\n",
            "|namespace|\n",
            "+---------+\n",
            "|  default|\n",
            "+---------+\n",
            "\n"
          ]
        }
      ]
    },
    {
      "cell_type": "markdown",
      "source": [
        "## Criar um novo banco de dados"
      ],
      "metadata": {
        "id": "TPoimn9Xkcdk"
      }
    },
    {
      "cell_type": "code",
      "source": [
        "spark.sql(\"create database desp\")"
      ],
      "metadata": {
        "colab": {
          "base_uri": "https://localhost:8080/"
        },
        "id": "ICisYVaJkFrI",
        "outputId": "667e9f46-b3f6-410d-a423-f4d27ef82040"
      },
      "execution_count": 3,
      "outputs": [
        {
          "output_type": "execute_result",
          "data": {
            "text/plain": [
              "DataFrame[]"
            ]
          },
          "metadata": {},
          "execution_count": 3
        }
      ]
    },
    {
      "cell_type": "code",
      "source": [
        "spark.sql(\"show databases\").show()"
      ],
      "metadata": {
        "colab": {
          "base_uri": "https://localhost:8080/"
        },
        "id": "9sQmZRtNkK0u",
        "outputId": "0e9bdcfa-ce46-40f4-a51c-a73c02b50c3b"
      },
      "execution_count": 4,
      "outputs": [
        {
          "output_type": "stream",
          "name": "stdout",
          "text": [
            "+---------+\n",
            "|namespace|\n",
            "+---------+\n",
            "|  default|\n",
            "|     desp|\n",
            "+---------+\n",
            "\n"
          ]
        }
      ]
    },
    {
      "cell_type": "code",
      "source": [
        "spark.sql(\"use desp\").show()"
      ],
      "metadata": {
        "colab": {
          "base_uri": "https://localhost:8080/"
        },
        "id": "oSTn0mUKkNLH",
        "outputId": "2e3217a5-e79b-4151-eac1-0d9090ea6129"
      },
      "execution_count": 5,
      "outputs": [
        {
          "output_type": "stream",
          "name": "stdout",
          "text": [
            "++\n",
            "||\n",
            "++\n",
            "++\n",
            "\n"
          ]
        }
      ]
    },
    {
      "cell_type": "markdown",
      "source": [
        "## Criação do dataframe"
      ],
      "metadata": {
        "id": "83s-WsbGlljP"
      }
    },
    {
      "cell_type": "code",
      "source": [
        "arqschema = \"id INT, nome STRING, status STRING, cidade STRING, vendas INT, data STRING\"\n",
        "\n",
        "despachantes= spark.read.csv(\"/content/download/despachantes.csv\", header=False, schema=arqschema)\n",
        "\n",
        "despachantes.show()"
      ],
      "metadata": {
        "colab": {
          "base_uri": "https://localhost:8080/"
        },
        "id": "rTeldYMtkkJu",
        "outputId": "53f3125a-75d3-473e-9d40-bab991bbb4ea"
      },
      "execution_count": 6,
      "outputs": [
        {
          "output_type": "stream",
          "name": "stdout",
          "text": [
            "+---+-------------------+------+-------------+------+----------+\n",
            "| id|               nome|status|       cidade|vendas|      data|\n",
            "+---+-------------------+------+-------------+------+----------+\n",
            "|  1|   Carminda Pestana| Ativo|  Santa Maria|    23|2020-08-11|\n",
            "|  2|    Deolinda Vilela| Ativo|Novo Hamburgo|    34|2020-03-05|\n",
            "|  3|   Emídio Dornelles| Ativo| Porto Alegre|    34|2020-02-05|\n",
            "|  4|Felisbela Dornelles| Ativo| Porto Alegre|    36|2020-02-05|\n",
            "|  5|     Graça Ornellas| Ativo| Porto Alegre|    12|2020-02-05|\n",
            "|  6|   Matilde Rebouças| Ativo| Porto Alegre|    22|2019-01-05|\n",
            "|  7|    Noêmia   Orriça| Ativo|  Santa Maria|    45|2019-10-05|\n",
            "|  8|      Roque Vásquez| Ativo| Porto Alegre|    65|2020-03-05|\n",
            "|  9|      Uriel Queiroz| Ativo| Porto Alegre|    54|2018-05-05|\n",
            "| 10|   Viviana Sequeira| Ativo| Porto Alegre|     0|2020-09-05|\n",
            "+---+-------------------+------+-------------+------+----------+\n",
            "\n"
          ]
        }
      ]
    },
    {
      "cell_type": "markdown",
      "source": [
        "## Criando uma tabela no banco de dados *desp* do SPARK"
      ],
      "metadata": {
        "id": "EqLlEJ5LoIJc"
      }
    },
    {
      "cell_type": "code",
      "source": [
        "despachantes.write.saveAsTable(\"Despachantes\")"
      ],
      "metadata": {
        "id": "eyvJcerEljNn"
      },
      "execution_count": 7,
      "outputs": []
    },
    {
      "cell_type": "code",
      "source": [
        "spark.sql(\"SELECT * FROM despachantes\").show()"
      ],
      "metadata": {
        "colab": {
          "base_uri": "https://localhost:8080/"
        },
        "id": "4Kwd75jIniyH",
        "outputId": "2d2a017a-04d8-4f68-df9d-9f95fe7f2fdd"
      },
      "execution_count": 8,
      "outputs": [
        {
          "output_type": "stream",
          "name": "stdout",
          "text": [
            "+---+-------------------+------+-------------+------+----------+\n",
            "| id|               nome|status|       cidade|vendas|      data|\n",
            "+---+-------------------+------+-------------+------+----------+\n",
            "|  1|   Carminda Pestana| Ativo|  Santa Maria|    23|2020-08-11|\n",
            "|  2|    Deolinda Vilela| Ativo|Novo Hamburgo|    34|2020-03-05|\n",
            "|  3|   Emídio Dornelles| Ativo| Porto Alegre|    34|2020-02-05|\n",
            "|  4|Felisbela Dornelles| Ativo| Porto Alegre|    36|2020-02-05|\n",
            "|  5|     Graça Ornellas| Ativo| Porto Alegre|    12|2020-02-05|\n",
            "|  6|   Matilde Rebouças| Ativo| Porto Alegre|    22|2019-01-05|\n",
            "|  7|    Noêmia   Orriça| Ativo|  Santa Maria|    45|2019-10-05|\n",
            "|  8|      Roque Vásquez| Ativo| Porto Alegre|    65|2020-03-05|\n",
            "|  9|      Uriel Queiroz| Ativo| Porto Alegre|    54|2018-05-05|\n",
            "| 10|   Viviana Sequeira| Ativo| Porto Alegre|     0|2020-09-05|\n",
            "+---+-------------------+------+-------------+------+----------+\n",
            "\n"
          ]
        }
      ]
    },
    {
      "cell_type": "code",
      "source": [
        "spark.sql(\"SHOW TABLES\").show()"
      ],
      "metadata": {
        "colab": {
          "base_uri": "https://localhost:8080/"
        },
        "id": "1JKRGVAlnoCx",
        "outputId": "a38b9c2b-0dfc-4527-80c4-f964b791b2aa"
      },
      "execution_count": 9,
      "outputs": [
        {
          "output_type": "stream",
          "name": "stdout",
          "text": [
            "+---------+------------+-----------+\n",
            "|namespace|   tableName|isTemporary|\n",
            "+---------+------------+-----------+\n",
            "|     desp|despachantes|      false|\n",
            "+---------+------------+-----------+\n",
            "\n"
          ]
        }
      ]
    },
    {
      "cell_type": "markdown",
      "source": [
        "## Sobrescrita da tabela do banco de dados"
      ],
      "metadata": {
        "id": "tz7_F1sAn6mO"
      }
    },
    {
      "cell_type": "code",
      "source": [
        "despachantes.write.mode(\"overwrite\").saveAsTable(\"Despachantes\")"
      ],
      "metadata": {
        "id": "veCpNdHhnsNh"
      },
      "execution_count": 10,
      "outputs": []
    },
    {
      "cell_type": "code",
      "source": [
        "spark.sql(\"SELECT * FROM despachantes\").show()"
      ],
      "metadata": {
        "colab": {
          "base_uri": "https://localhost:8080/"
        },
        "id": "_rj5qRvsoEX4",
        "outputId": "75f33a0d-a1e2-4b13-dc15-59afe7eb4afb"
      },
      "execution_count": 11,
      "outputs": [
        {
          "output_type": "stream",
          "name": "stdout",
          "text": [
            "+---+-------------------+------+-------------+------+----------+\n",
            "| id|               nome|status|       cidade|vendas|      data|\n",
            "+---+-------------------+------+-------------+------+----------+\n",
            "|  1|   Carminda Pestana| Ativo|  Santa Maria|    23|2020-08-11|\n",
            "|  2|    Deolinda Vilela| Ativo|Novo Hamburgo|    34|2020-03-05|\n",
            "|  3|   Emídio Dornelles| Ativo| Porto Alegre|    34|2020-02-05|\n",
            "|  4|Felisbela Dornelles| Ativo| Porto Alegre|    36|2020-02-05|\n",
            "|  5|     Graça Ornellas| Ativo| Porto Alegre|    12|2020-02-05|\n",
            "|  6|   Matilde Rebouças| Ativo| Porto Alegre|    22|2019-01-05|\n",
            "|  7|    Noêmia   Orriça| Ativo|  Santa Maria|    45|2019-10-05|\n",
            "|  8|      Roque Vásquez| Ativo| Porto Alegre|    65|2020-03-05|\n",
            "|  9|      Uriel Queiroz| Ativo| Porto Alegre|    54|2018-05-05|\n",
            "| 10|   Viviana Sequeira| Ativo| Porto Alegre|     0|2020-09-05|\n",
            "+---+-------------------+------+-------------+------+----------+\n",
            "\n"
          ]
        }
      ]
    },
    {
      "cell_type": "markdown",
      "source": [
        "## Criar um banco de dados externo"
      ],
      "metadata": {
        "id": "14l5slsKrK53"
      }
    },
    {
      "cell_type": "markdown",
      "source": [
        "## Criando o banco no formato parquet"
      ],
      "metadata": {
        "id": "03bHxDqCsbhP"
      }
    },
    {
      "cell_type": "code",
      "source": [
        "despachantes.write.format(\"parquet\").save(\"/content/desparquet\")"
      ],
      "metadata": {
        "id": "Yy5u2tOcoGnR"
      },
      "execution_count": 12,
      "outputs": []
    },
    {
      "cell_type": "markdown",
      "source": [
        "## Criando a tabela a partir do arquivo parquet criado anteriormente"
      ],
      "metadata": {
        "id": "ouS97OQcsgA0"
      }
    },
    {
      "cell_type": "code",
      "source": [
        "despachantes.write.option(\"paht\", \"/content/desparquet\").saveAsTable(\"Despachantes_ng\")"
      ],
      "metadata": {
        "id": "4tYuHpPprWL-"
      },
      "execution_count": 13,
      "outputs": []
    },
    {
      "cell_type": "code",
      "source": [
        "spark.sql(\"select * from despachantes_ng\").show()"
      ],
      "metadata": {
        "colab": {
          "base_uri": "https://localhost:8080/"
        },
        "id": "7MNkyn9Vrrcz",
        "outputId": "624fe582-4d81-44c9-92c7-330f358c8530"
      },
      "execution_count": 14,
      "outputs": [
        {
          "output_type": "stream",
          "name": "stdout",
          "text": [
            "+---+-------------------+------+-------------+------+----------+\n",
            "| id|               nome|status|       cidade|vendas|      data|\n",
            "+---+-------------------+------+-------------+------+----------+\n",
            "|  1|   Carminda Pestana| Ativo|  Santa Maria|    23|2020-08-11|\n",
            "|  2|    Deolinda Vilela| Ativo|Novo Hamburgo|    34|2020-03-05|\n",
            "|  3|   Emídio Dornelles| Ativo| Porto Alegre|    34|2020-02-05|\n",
            "|  4|Felisbela Dornelles| Ativo| Porto Alegre|    36|2020-02-05|\n",
            "|  5|     Graça Ornellas| Ativo| Porto Alegre|    12|2020-02-05|\n",
            "|  6|   Matilde Rebouças| Ativo| Porto Alegre|    22|2019-01-05|\n",
            "|  7|    Noêmia   Orriça| Ativo|  Santa Maria|    45|2019-10-05|\n",
            "|  8|      Roque Vásquez| Ativo| Porto Alegre|    65|2020-03-05|\n",
            "|  9|      Uriel Queiroz| Ativo| Porto Alegre|    54|2018-05-05|\n",
            "| 10|   Viviana Sequeira| Ativo| Porto Alegre|     0|2020-09-05|\n",
            "+---+-------------------+------+-------------+------+----------+\n",
            "\n"
          ]
        }
      ]
    },
    {
      "cell_type": "markdown",
      "source": [
        "## Conferir onde está salvo o arquivo **parquet** do banco de dados do Spark(Externo ou Interno)"
      ],
      "metadata": {
        "id": "1kWpsfVlsBQH"
      }
    },
    {
      "cell_type": "code",
      "source": [
        "# Adiciona o paramêtro truncate para deixar o prompt com todas as informações\n",
        "\n",
        "spark.sql(\"show create table Despachantes\").show(truncate=False)"
      ],
      "metadata": {
        "colab": {
          "base_uri": "https://localhost:8080/"
        },
        "id": "a4WpC1nFrv1F",
        "outputId": "2c52e7f5-5f60-47ea-c828-9b2318e203a6"
      },
      "execution_count": 15,
      "outputs": [
        {
          "output_type": "stream",
          "name": "stdout",
          "text": [
            "+-----------------------------------------------------------------------------------------------------------------------------------------------+\n",
            "|createtab_stmt                                                                                                                                 |\n",
            "+-----------------------------------------------------------------------------------------------------------------------------------------------+\n",
            "|CREATE TABLE desp.despachantes (\\n  id INT,\\n  nome STRING,\\n  status STRING,\\n  cidade STRING,\\n  vendas INT,\\n  data STRING)\\nUSING parquet\\n|\n",
            "+-----------------------------------------------------------------------------------------------------------------------------------------------+\n",
            "\n"
          ]
        }
      ]
    },
    {
      "cell_type": "code",
      "source": [
        "spark.sql(\"show create table Despachantes_ng\").show(truncate=False)"
      ],
      "metadata": {
        "colab": {
          "base_uri": "https://localhost:8080/"
        },
        "id": "n_AOPVa0r6l6",
        "outputId": "2da883dd-9d08-48cd-a440-14cfe6d72a9e"
      },
      "execution_count": 16,
      "outputs": [
        {
          "output_type": "stream",
          "name": "stdout",
          "text": [
            "+------------------------------------------------------------------------------------------------------------------------------------------------------------------------------------------------+\n",
            "|createtab_stmt                                                                                                                                                                                  |\n",
            "+------------------------------------------------------------------------------------------------------------------------------------------------------------------------------------------------+\n",
            "|CREATE TABLE desp.despachantes_ng (\\n  id INT,\\n  nome STRING,\\n  status STRING,\\n  cidade STRING,\\n  vendas INT,\\n  data STRING)\\nUSING parquet\\nOPTIONS (\\n  'paht' = '/content/desparquet')\\n|\n",
            "+------------------------------------------------------------------------------------------------------------------------------------------------------------------------------------------------+\n",
            "\n"
          ]
        }
      ]
    },
    {
      "cell_type": "code",
      "source": [
        "spark.catalog.listTables()"
      ],
      "metadata": {
        "colab": {
          "base_uri": "https://localhost:8080/"
        },
        "id": "vnvJPZoRr-mF",
        "outputId": "166087a6-1d89-48da-c354-cec8b8af9ddd"
      },
      "execution_count": 17,
      "outputs": [
        {
          "output_type": "execute_result",
          "data": {
            "text/plain": [
              "[Table(name='despachantes', database='desp', description=None, tableType='MANAGED', isTemporary=False),\n",
              " Table(name='despachantes_ng', database='desp', description=None, tableType='MANAGED', isTemporary=False)]"
            ]
          },
          "metadata": {},
          "execution_count": 17
        }
      ]
    },
    {
      "cell_type": "markdown",
      "source": [
        "# Views"
      ],
      "metadata": {
        "id": "530FRwgHXy3F"
      }
    },
    {
      "cell_type": "code",
      "source": [
        "despachantes.createOrReplaceTempView(\"Despachantes_view1\")\n",
        "\n",
        "spark.sql(\"select * from Despachantes_view1\").show()"
      ],
      "metadata": {
        "colab": {
          "base_uri": "https://localhost:8080/"
        },
        "id": "8-ovL1U7X0qK",
        "outputId": "9423eac3-7c1d-43ba-b9c9-f0cf66d9d30c"
      },
      "execution_count": 18,
      "outputs": [
        {
          "output_type": "stream",
          "name": "stdout",
          "text": [
            "+---+-------------------+------+-------------+------+----------+\n",
            "| id|               nome|status|       cidade|vendas|      data|\n",
            "+---+-------------------+------+-------------+------+----------+\n",
            "|  1|   Carminda Pestana| Ativo|  Santa Maria|    23|2020-08-11|\n",
            "|  2|    Deolinda Vilela| Ativo|Novo Hamburgo|    34|2020-03-05|\n",
            "|  3|   Emídio Dornelles| Ativo| Porto Alegre|    34|2020-02-05|\n",
            "|  4|Felisbela Dornelles| Ativo| Porto Alegre|    36|2020-02-05|\n",
            "|  5|     Graça Ornellas| Ativo| Porto Alegre|    12|2020-02-05|\n",
            "|  6|   Matilde Rebouças| Ativo| Porto Alegre|    22|2019-01-05|\n",
            "|  7|    Noêmia   Orriça| Ativo|  Santa Maria|    45|2019-10-05|\n",
            "|  8|      Roque Vásquez| Ativo| Porto Alegre|    65|2020-03-05|\n",
            "|  9|      Uriel Queiroz| Ativo| Porto Alegre|    54|2018-05-05|\n",
            "| 10|   Viviana Sequeira| Ativo| Porto Alegre|     0|2020-09-05|\n",
            "+---+-------------------+------+-------------+------+----------+\n",
            "\n"
          ]
        }
      ]
    },
    {
      "cell_type": "code",
      "source": [
        "despachantes.createOrReplaceGlobalTempView(\"Despachantes_view2\")\n",
        "\n",
        "spark.sql(\"select * from global_temp.Despachantes_view2\").show()"
      ],
      "metadata": {
        "colab": {
          "base_uri": "https://localhost:8080/"
        },
        "id": "-eXifIgPYFpD",
        "outputId": "1eecc413-b84b-4607-9db3-7b952606e4f1"
      },
      "execution_count": 19,
      "outputs": [
        {
          "output_type": "stream",
          "name": "stdout",
          "text": [
            "+---+-------------------+------+-------------+------+----------+\n",
            "| id|               nome|status|       cidade|vendas|      data|\n",
            "+---+-------------------+------+-------------+------+----------+\n",
            "|  1|   Carminda Pestana| Ativo|  Santa Maria|    23|2020-08-11|\n",
            "|  2|    Deolinda Vilela| Ativo|Novo Hamburgo|    34|2020-03-05|\n",
            "|  3|   Emídio Dornelles| Ativo| Porto Alegre|    34|2020-02-05|\n",
            "|  4|Felisbela Dornelles| Ativo| Porto Alegre|    36|2020-02-05|\n",
            "|  5|     Graça Ornellas| Ativo| Porto Alegre|    12|2020-02-05|\n",
            "|  6|   Matilde Rebouças| Ativo| Porto Alegre|    22|2019-01-05|\n",
            "|  7|    Noêmia   Orriça| Ativo|  Santa Maria|    45|2019-10-05|\n",
            "|  8|      Roque Vásquez| Ativo| Porto Alegre|    65|2020-03-05|\n",
            "|  9|      Uriel Queiroz| Ativo| Porto Alegre|    54|2018-05-05|\n",
            "| 10|   Viviana Sequeira| Ativo| Porto Alegre|     0|2020-09-05|\n",
            "+---+-------------------+------+-------------+------+----------+\n",
            "\n"
          ]
        }
      ]
    },
    {
      "cell_type": "code",
      "source": [
        "spark.sql(\"CREATE OR REPLACE TEMP VIEW DESP_VIEW AS select * from despachantes\")"
      ],
      "metadata": {
        "colab": {
          "base_uri": "https://localhost:8080/"
        },
        "id": "tP79HNRCYRRX",
        "outputId": "4b8b9af6-3fbf-44f2-d1a8-b27e7a18187d"
      },
      "execution_count": 20,
      "outputs": [
        {
          "output_type": "execute_result",
          "data": {
            "text/plain": [
              "DataFrame[]"
            ]
          },
          "metadata": {},
          "execution_count": 20
        }
      ]
    },
    {
      "cell_type": "code",
      "source": [
        "spark.sql(\"select * from DESP_VIEW\").show()"
      ],
      "metadata": {
        "colab": {
          "base_uri": "https://localhost:8080/"
        },
        "id": "FAVh7e_qYoxO",
        "outputId": "ceacf48b-a35c-48d2-e6fc-60b6e3ec5342"
      },
      "execution_count": 21,
      "outputs": [
        {
          "output_type": "stream",
          "name": "stdout",
          "text": [
            "+---+-------------------+------+-------------+------+----------+\n",
            "| id|               nome|status|       cidade|vendas|      data|\n",
            "+---+-------------------+------+-------------+------+----------+\n",
            "|  1|   Carminda Pestana| Ativo|  Santa Maria|    23|2020-08-11|\n",
            "|  2|    Deolinda Vilela| Ativo|Novo Hamburgo|    34|2020-03-05|\n",
            "|  3|   Emídio Dornelles| Ativo| Porto Alegre|    34|2020-02-05|\n",
            "|  4|Felisbela Dornelles| Ativo| Porto Alegre|    36|2020-02-05|\n",
            "|  5|     Graça Ornellas| Ativo| Porto Alegre|    12|2020-02-05|\n",
            "|  6|   Matilde Rebouças| Ativo| Porto Alegre|    22|2019-01-05|\n",
            "|  7|    Noêmia   Orriça| Ativo|  Santa Maria|    45|2019-10-05|\n",
            "|  8|      Roque Vásquez| Ativo| Porto Alegre|    65|2020-03-05|\n",
            "|  9|      Uriel Queiroz| Ativo| Porto Alegre|    54|2018-05-05|\n",
            "| 10|   Viviana Sequeira| Ativo| Porto Alegre|     0|2020-09-05|\n",
            "+---+-------------------+------+-------------+------+----------+\n",
            "\n"
          ]
        }
      ]
    },
    {
      "cell_type": "code",
      "source": [
        "spark.sql(\"CREATE OR REPLACE GLOBAL TEMP VIEW DESP_VIEW2 AS select * from despachantes\")\n",
        "\n",
        "spark.sql(\"select * from global_temp.DESP_VIEW2\").show()"
      ],
      "metadata": {
        "colab": {
          "base_uri": "https://localhost:8080/"
        },
        "id": "29zw4qV2Yvbe",
        "outputId": "47c9eb5b-9a83-4cd3-81ef-e1aaaad40b84"
      },
      "execution_count": 22,
      "outputs": [
        {
          "output_type": "stream",
          "name": "stdout",
          "text": [
            "+---+-------------------+------+-------------+------+----------+\n",
            "| id|               nome|status|       cidade|vendas|      data|\n",
            "+---+-------------------+------+-------------+------+----------+\n",
            "|  1|   Carminda Pestana| Ativo|  Santa Maria|    23|2020-08-11|\n",
            "|  2|    Deolinda Vilela| Ativo|Novo Hamburgo|    34|2020-03-05|\n",
            "|  3|   Emídio Dornelles| Ativo| Porto Alegre|    34|2020-02-05|\n",
            "|  4|Felisbela Dornelles| Ativo| Porto Alegre|    36|2020-02-05|\n",
            "|  5|     Graça Ornellas| Ativo| Porto Alegre|    12|2020-02-05|\n",
            "|  6|   Matilde Rebouças| Ativo| Porto Alegre|    22|2019-01-05|\n",
            "|  7|    Noêmia   Orriça| Ativo|  Santa Maria|    45|2019-10-05|\n",
            "|  8|      Roque Vásquez| Ativo| Porto Alegre|    65|2020-03-05|\n",
            "|  9|      Uriel Queiroz| Ativo| Porto Alegre|    54|2018-05-05|\n",
            "| 10|   Viviana Sequeira| Ativo| Porto Alegre|     0|2020-09-05|\n",
            "+---+-------------------+------+-------------+------+----------+\n",
            "\n"
          ]
        }
      ]
    },
    {
      "cell_type": "markdown",
      "source": [
        "## Comparando DataFrame com Tabelas "
      ],
      "metadata": {
        "id": "-ubSFzzJZlcc"
      }
    },
    {
      "cell_type": "code",
      "source": [
        "from pyspark.sql import functions as Func\n",
        "from pyspark.sql.functions import *\n",
        "\n",
        "spark.sql(\"select * from Despachantes\").show()"
      ],
      "metadata": {
        "colab": {
          "base_uri": "https://localhost:8080/"
        },
        "id": "WCXt9ULfY-Ld",
        "outputId": "7ad4e276-1ba7-4f20-c945-971ba4057603"
      },
      "execution_count": 23,
      "outputs": [
        {
          "output_type": "stream",
          "name": "stdout",
          "text": [
            "+---+-------------------+------+-------------+------+----------+\n",
            "| id|               nome|status|       cidade|vendas|      data|\n",
            "+---+-------------------+------+-------------+------+----------+\n",
            "|  1|   Carminda Pestana| Ativo|  Santa Maria|    23|2020-08-11|\n",
            "|  2|    Deolinda Vilela| Ativo|Novo Hamburgo|    34|2020-03-05|\n",
            "|  3|   Emídio Dornelles| Ativo| Porto Alegre|    34|2020-02-05|\n",
            "|  4|Felisbela Dornelles| Ativo| Porto Alegre|    36|2020-02-05|\n",
            "|  5|     Graça Ornellas| Ativo| Porto Alegre|    12|2020-02-05|\n",
            "|  6|   Matilde Rebouças| Ativo| Porto Alegre|    22|2019-01-05|\n",
            "|  7|    Noêmia   Orriça| Ativo|  Santa Maria|    45|2019-10-05|\n",
            "|  8|      Roque Vásquez| Ativo| Porto Alegre|    65|2020-03-05|\n",
            "|  9|      Uriel Queiroz| Ativo| Porto Alegre|    54|2018-05-05|\n",
            "| 10|   Viviana Sequeira| Ativo| Porto Alegre|     0|2020-09-05|\n",
            "+---+-------------------+------+-------------+------+----------+\n",
            "\n"
          ]
        }
      ]
    },
    {
      "cell_type": "code",
      "source": [
        "despachantes.show()"
      ],
      "metadata": {
        "colab": {
          "base_uri": "https://localhost:8080/"
        },
        "id": "q4toLRZXZ0LR",
        "outputId": "e05aad87-e711-49e4-acba-132da8c36404"
      },
      "execution_count": 24,
      "outputs": [
        {
          "output_type": "stream",
          "name": "stdout",
          "text": [
            "+---+-------------------+------+-------------+------+----------+\n",
            "| id|               nome|status|       cidade|vendas|      data|\n",
            "+---+-------------------+------+-------------+------+----------+\n",
            "|  1|   Carminda Pestana| Ativo|  Santa Maria|    23|2020-08-11|\n",
            "|  2|    Deolinda Vilela| Ativo|Novo Hamburgo|    34|2020-03-05|\n",
            "|  3|   Emídio Dornelles| Ativo| Porto Alegre|    34|2020-02-05|\n",
            "|  4|Felisbela Dornelles| Ativo| Porto Alegre|    36|2020-02-05|\n",
            "|  5|     Graça Ornellas| Ativo| Porto Alegre|    12|2020-02-05|\n",
            "|  6|   Matilde Rebouças| Ativo| Porto Alegre|    22|2019-01-05|\n",
            "|  7|    Noêmia   Orriça| Ativo|  Santa Maria|    45|2019-10-05|\n",
            "|  8|      Roque Vásquez| Ativo| Porto Alegre|    65|2020-03-05|\n",
            "|  9|      Uriel Queiroz| Ativo| Porto Alegre|    54|2018-05-05|\n",
            "| 10|   Viviana Sequeira| Ativo| Porto Alegre|     0|2020-09-05|\n",
            "+---+-------------------+------+-------------+------+----------+\n",
            "\n"
          ]
        }
      ]
    },
    {
      "cell_type": "code",
      "source": [
        "spark.sql(\"select nome, vendas from Despachantes\").show()"
      ],
      "metadata": {
        "colab": {
          "base_uri": "https://localhost:8080/"
        },
        "id": "FOrPXr_vZ4H7",
        "outputId": "ea0356d4-679f-42fb-fa25-991642d84794"
      },
      "execution_count": 25,
      "outputs": [
        {
          "output_type": "stream",
          "name": "stdout",
          "text": [
            "+-------------------+------+\n",
            "|               nome|vendas|\n",
            "+-------------------+------+\n",
            "|   Carminda Pestana|    23|\n",
            "|    Deolinda Vilela|    34|\n",
            "|   Emídio Dornelles|    34|\n",
            "|Felisbela Dornelles|    36|\n",
            "|     Graça Ornellas|    12|\n",
            "|   Matilde Rebouças|    22|\n",
            "|    Noêmia   Orriça|    45|\n",
            "|      Roque Vásquez|    65|\n",
            "|      Uriel Queiroz|    54|\n",
            "|   Viviana Sequeira|     0|\n",
            "+-------------------+------+\n",
            "\n"
          ]
        }
      ]
    },
    {
      "cell_type": "code",
      "source": [
        "despachantes.select(\"nome\", \"vendas\").show()"
      ],
      "metadata": {
        "colab": {
          "base_uri": "https://localhost:8080/"
        },
        "id": "FKRU1HLJaIHi",
        "outputId": "ad397978-7afe-41c4-dfbf-d00b59cd8e8c"
      },
      "execution_count": 26,
      "outputs": [
        {
          "output_type": "stream",
          "name": "stdout",
          "text": [
            "+-------------------+------+\n",
            "|               nome|vendas|\n",
            "+-------------------+------+\n",
            "|   Carminda Pestana|    23|\n",
            "|    Deolinda Vilela|    34|\n",
            "|   Emídio Dornelles|    34|\n",
            "|Felisbela Dornelles|    36|\n",
            "|     Graça Ornellas|    12|\n",
            "|   Matilde Rebouças|    22|\n",
            "|    Noêmia   Orriça|    45|\n",
            "|      Roque Vásquez|    65|\n",
            "|      Uriel Queiroz|    54|\n",
            "|   Viviana Sequeira|     0|\n",
            "+-------------------+------+\n",
            "\n"
          ]
        }
      ]
    },
    {
      "cell_type": "code",
      "source": [
        "spark.sql(\"select nome, vendas from Despachantes where vendas > 20\").show()"
      ],
      "metadata": {
        "colab": {
          "base_uri": "https://localhost:8080/"
        },
        "id": "HsX-POwxaRmt",
        "outputId": "e83a9563-839b-4655-e5cf-76ab931cc39d"
      },
      "execution_count": 27,
      "outputs": [
        {
          "output_type": "stream",
          "name": "stdout",
          "text": [
            "+-------------------+------+\n",
            "|               nome|vendas|\n",
            "+-------------------+------+\n",
            "|   Carminda Pestana|    23|\n",
            "|    Deolinda Vilela|    34|\n",
            "|   Emídio Dornelles|    34|\n",
            "|Felisbela Dornelles|    36|\n",
            "|   Matilde Rebouças|    22|\n",
            "|    Noêmia   Orriça|    45|\n",
            "|      Roque Vásquez|    65|\n",
            "|      Uriel Queiroz|    54|\n",
            "+-------------------+------+\n",
            "\n"
          ]
        }
      ]
    },
    {
      "cell_type": "code",
      "source": [
        "despachantes.select(\"nome\", \"vendas\").where(Func.col(\"vendas\") > 20).show()"
      ],
      "metadata": {
        "colab": {
          "base_uri": "https://localhost:8080/"
        },
        "id": "YtOytx8faqyb",
        "outputId": "32308cfb-12cd-47aa-87c4-73a3a042bf93"
      },
      "execution_count": 28,
      "outputs": [
        {
          "output_type": "stream",
          "name": "stdout",
          "text": [
            "+-------------------+------+\n",
            "|               nome|vendas|\n",
            "+-------------------+------+\n",
            "|   Carminda Pestana|    23|\n",
            "|    Deolinda Vilela|    34|\n",
            "|   Emídio Dornelles|    34|\n",
            "|Felisbela Dornelles|    36|\n",
            "|   Matilde Rebouças|    22|\n",
            "|    Noêmia   Orriça|    45|\n",
            "|      Roque Vásquez|    65|\n",
            "|      Uriel Queiroz|    54|\n",
            "+-------------------+------+\n",
            "\n"
          ]
        }
      ]
    },
    {
      "cell_type": "code",
      "source": [
        "spark.sql(\"select cidade, sum(vendas) from Despachantes group by cidade order by 2 desc\").show()"
      ],
      "metadata": {
        "colab": {
          "base_uri": "https://localhost:8080/"
        },
        "id": "NufKB1Hbayux",
        "outputId": "ddc50673-e00a-4154-89ee-a0ec1a666d10"
      },
      "execution_count": 29,
      "outputs": [
        {
          "output_type": "stream",
          "name": "stdout",
          "text": [
            "+-------------+-----------+\n",
            "|       cidade|sum(vendas)|\n",
            "+-------------+-----------+\n",
            "| Porto Alegre|        223|\n",
            "|  Santa Maria|         68|\n",
            "|Novo Hamburgo|         34|\n",
            "+-------------+-----------+\n",
            "\n"
          ]
        }
      ]
    },
    {
      "cell_type": "code",
      "source": [
        "despachantes.groupby(\"cidade\").agg(sum(\"vendas\")).orderBy(Func.col(\"sum(vendas)\").desc()).show()"
      ],
      "metadata": {
        "colab": {
          "base_uri": "https://localhost:8080/"
        },
        "id": "9GaypyWlbhgy",
        "outputId": "3bb4a277-bec0-42fe-948d-9556851c2e99"
      },
      "execution_count": 30,
      "outputs": [
        {
          "output_type": "stream",
          "name": "stdout",
          "text": [
            "+-------------+-----------+\n",
            "|       cidade|sum(vendas)|\n",
            "+-------------+-----------+\n",
            "| Porto Alegre|        223|\n",
            "|  Santa Maria|         68|\n",
            "|Novo Hamburgo|         34|\n",
            "+-------------+-----------+\n",
            "\n"
          ]
        }
      ]
    },
    {
      "cell_type": "markdown",
      "source": [
        "## Joins"
      ],
      "metadata": {
        "id": "btOjegUVeDs3"
      }
    },
    {
      "cell_type": "code",
      "source": [
        "rschema = \"idrec INT, datarec STRING, iddesp INT\"\n",
        "\n",
        "reclamacoes = spark.read.csv(\"/content/download/reclamacoes.csv\", header=False, schema=rschema)\n",
        "\n",
        "reclamacoes.show()"
      ],
      "metadata": {
        "colab": {
          "base_uri": "https://localhost:8080/"
        },
        "id": "X08Wm9eKbvgN",
        "outputId": "44ef8cd2-c99f-4144-99bd-cf86f0e94f16"
      },
      "execution_count": 31,
      "outputs": [
        {
          "output_type": "stream",
          "name": "stdout",
          "text": [
            "+-----+----------+------+\n",
            "|idrec|   datarec|iddesp|\n",
            "+-----+----------+------+\n",
            "|    1|2020-09-12|     2|\n",
            "|    2|2020-09-11|     2|\n",
            "|    3|2020-10-05|     4|\n",
            "|    4|2020-10-02|     5|\n",
            "|    5|2020-12-06|     5|\n",
            "|    6|2020-01-09|     5|\n",
            "|    7|2020-01-05|     9|\n",
            "+-----+----------+------+\n",
            "\n"
          ]
        }
      ]
    },
    {
      "cell_type": "markdown",
      "source": [
        "## Criando a tabela de reclamacoes no Spark"
      ],
      "metadata": {
        "id": "mEsDNVHvkjgs"
      }
    },
    {
      "cell_type": "code",
      "source": [
        "reclamacoes.write.saveAsTable(\"reclamacoes\")"
      ],
      "metadata": {
        "id": "hdw7H9GViT-P"
      },
      "execution_count": 32,
      "outputs": []
    },
    {
      "cell_type": "code",
      "source": [
        "spark.sql(\"select reclamacoes.*, despachantes.nome from despachantes \\\n",
        "          inner join reclamacoes \\\n",
        "          on (despachantes.id = reclamacoes.iddesp)\").show()"
      ],
      "metadata": {
        "colab": {
          "base_uri": "https://localhost:8080/"
        },
        "id": "cN_1nBu1i1br",
        "outputId": "ad05d175-012f-4d0a-c580-32cde5f16660"
      },
      "execution_count": 33,
      "outputs": [
        {
          "output_type": "stream",
          "name": "stdout",
          "text": [
            "+-----+----------+------+-------------------+\n",
            "|idrec|   datarec|iddesp|               nome|\n",
            "+-----+----------+------+-------------------+\n",
            "|    1|2020-09-12|     2|    Deolinda Vilela|\n",
            "|    2|2020-09-11|     2|    Deolinda Vilela|\n",
            "|    3|2020-10-05|     4|Felisbela Dornelles|\n",
            "|    4|2020-10-02|     5|     Graça Ornellas|\n",
            "|    5|2020-12-06|     5|     Graça Ornellas|\n",
            "|    6|2020-01-09|     5|     Graça Ornellas|\n",
            "|    7|2020-01-05|     9|      Uriel Queiroz|\n",
            "+-----+----------+------+-------------------+\n",
            "\n"
          ]
        }
      ]
    },
    {
      "cell_type": "code",
      "source": [
        "spark.sql(\"select reclamacoes.*, despachantes.nome from despachantes \\\n",
        "          right join reclamacoes \\\n",
        "          on (despachantes.id = reclamacoes.iddesp)\").show()"
      ],
      "metadata": {
        "colab": {
          "base_uri": "https://localhost:8080/"
        },
        "id": "gcMO1s_hjAu1",
        "outputId": "75a198e5-f786-4f32-c6af-63dc77b091cb"
      },
      "execution_count": 34,
      "outputs": [
        {
          "output_type": "stream",
          "name": "stdout",
          "text": [
            "+-----+----------+------+-------------------+\n",
            "|idrec|   datarec|iddesp|               nome|\n",
            "+-----+----------+------+-------------------+\n",
            "|    1|2020-09-12|     2|    Deolinda Vilela|\n",
            "|    2|2020-09-11|     2|    Deolinda Vilela|\n",
            "|    3|2020-10-05|     4|Felisbela Dornelles|\n",
            "|    4|2020-10-02|     5|     Graça Ornellas|\n",
            "|    5|2020-12-06|     5|     Graça Ornellas|\n",
            "|    6|2020-01-09|     5|     Graça Ornellas|\n",
            "|    7|2020-01-05|     9|      Uriel Queiroz|\n",
            "+-----+----------+------+-------------------+\n",
            "\n"
          ]
        }
      ]
    },
    {
      "cell_type": "code",
      "source": [
        "spark.sql(\"select reclamacoes.*, despachantes.nome from despachantes \\\n",
        "          left join reclamacoes \\\n",
        "          on (despachantes.id = reclamacoes.iddesp)\").show()"
      ],
      "metadata": {
        "colab": {
          "base_uri": "https://localhost:8080/"
        },
        "id": "-KQ-_DysjJaE",
        "outputId": "646cad10-3821-4fd7-c097-11dbcb2ecae1"
      },
      "execution_count": 35,
      "outputs": [
        {
          "output_type": "stream",
          "name": "stdout",
          "text": [
            "+-----+----------+------+-------------------+\n",
            "|idrec|   datarec|iddesp|               nome|\n",
            "+-----+----------+------+-------------------+\n",
            "| null|      null|  null|   Carminda Pestana|\n",
            "|    2|2020-09-11|     2|    Deolinda Vilela|\n",
            "|    1|2020-09-12|     2|    Deolinda Vilela|\n",
            "| null|      null|  null|   Emídio Dornelles|\n",
            "|    3|2020-10-05|     4|Felisbela Dornelles|\n",
            "|    6|2020-01-09|     5|     Graça Ornellas|\n",
            "|    5|2020-12-06|     5|     Graça Ornellas|\n",
            "|    4|2020-10-02|     5|     Graça Ornellas|\n",
            "| null|      null|  null|   Matilde Rebouças|\n",
            "| null|      null|  null|    Noêmia   Orriça|\n",
            "| null|      null|  null|      Roque Vásquez|\n",
            "|    7|2020-01-05|     9|      Uriel Queiroz|\n",
            "| null|      null|  null|   Viviana Sequeira|\n",
            "+-----+----------+------+-------------------+\n",
            "\n"
          ]
        }
      ]
    },
    {
      "cell_type": "code",
      "source": [
        "despachantes.join(reclamacoes, despachantes.id == reclamacoes.iddesp, \\\n",
        "                  \"inner\"). \\\n",
        "                  select(\"idrec\", \"datarec\", \"iddesp\", \"nome\").show()"
      ],
      "metadata": {
        "colab": {
          "base_uri": "https://localhost:8080/"
        },
        "id": "JU744P4KjPIu",
        "outputId": "296fff5c-9c00-46f6-c889-774042c6bc2b"
      },
      "execution_count": 37,
      "outputs": [
        {
          "output_type": "stream",
          "name": "stdout",
          "text": [
            "+-----+----------+------+-------------------+\n",
            "|idrec|   datarec|iddesp|               nome|\n",
            "+-----+----------+------+-------------------+\n",
            "|    2|2020-09-11|     2|    Deolinda Vilela|\n",
            "|    1|2020-09-12|     2|    Deolinda Vilela|\n",
            "|    3|2020-10-05|     4|Felisbela Dornelles|\n",
            "|    6|2020-01-09|     5|     Graça Ornellas|\n",
            "|    5|2020-12-06|     5|     Graça Ornellas|\n",
            "|    4|2020-10-02|     5|     Graça Ornellas|\n",
            "|    7|2020-01-05|     9|      Uriel Queiroz|\n",
            "+-----+----------+------+-------------------+\n",
            "\n"
          ]
        }
      ]
    }
  ]
}