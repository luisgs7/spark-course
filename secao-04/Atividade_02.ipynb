{
  "nbformat": 4,
  "nbformat_minor": 0,
  "metadata": {
    "colab": {
      "provenance": []
    },
    "kernelspec": {
      "name": "python3",
      "display_name": "Python 3"
    },
    "language_info": {
      "name": "python"
    }
  },
  "cells": [
    {
      "cell_type": "markdown",
      "source": [
        "## Setup inicial"
      ],
      "metadata": {
        "id": "WV-wnjocFPgG"
      }
    },
    {
      "cell_type": "code",
      "execution_count": null,
      "metadata": {
        "id": "t0a5xOCXFLg5"
      },
      "outputs": [],
      "source": [
        "# pyspark\n",
        "!pip install pyspark\n",
        "\n",
        "# findspark\n",
        "!pip install findspark\n",
        "\n",
        "# Import das bibliotecas\n",
        "import findspark\n",
        "findspark.init()\n",
        "from pyspark.sql import SparkSession\n",
        "from pyspark.sql.types import *\n",
        "\n",
        "spark = SparkSession.builder \\\n",
        "      .master(\"local[1]\") \\\n",
        "      .appName(\"SparkByExamples.com\") \\\n",
        "      .getOrCreate()\n",
        "\n",
        "\n",
        "# Download dos arquivos\n",
        "!wget www.datascientist.com.br/bigdata/download.zip\n",
        "\n",
        "# Extrair os arquivos\n",
        "!unzip download.zip"
      ]
    },
    {
      "cell_type": "code",
      "source": [
        "clientes = spark.read.load(\"/content/download/Atividades/Clientes.parquet\")\n",
        "\n",
        "clientes.show(2)"
      ],
      "metadata": {
        "colab": {
          "base_uri": "https://localhost:8080/"
        },
        "id": "UaMnwy7vFSt9",
        "outputId": "f200717e-6a46-4b73-e167-0e5cd3cf5873"
      },
      "execution_count": 4,
      "outputs": [
        {
          "output_type": "stream",
          "name": "stdout",
          "text": [
            "+---------+--------------------+------+------+------+\n",
            "|ClienteID|             Cliente|Estado|Genero|Status|\n",
            "+---------+--------------------+------+------+------+\n",
            "|        1|Adelina Buenaventura|    RJ|     M|Silver|\n",
            "|        2|        Adelino Gago|    RJ|     M|Silver|\n",
            "+---------+--------------------+------+------+------+\n",
            "only showing top 2 rows\n",
            "\n"
          ]
        }
      ]
    },
    {
      "cell_type": "code",
      "source": [
        "vendas = spark.read.load(\"/content/download/Atividades/Vendas.parquet\")\n",
        "\n",
        "vendas.show(2)"
      ],
      "metadata": {
        "colab": {
          "base_uri": "https://localhost:8080/"
        },
        "id": "kQfj-41zFwFh",
        "outputId": "3a8ba309-4c59-4b3f-a9d0-1772de8e31b3"
      },
      "execution_count": 3,
      "outputs": [
        {
          "output_type": "stream",
          "name": "stdout",
          "text": [
            "+--------+----------+---------+--------+------+\n",
            "|VendasID|VendedorID|ClienteID|    Data| Total|\n",
            "+--------+----------+---------+--------+------+\n",
            "|       1|         1|       91|1/1/2019|8053.6|\n",
            "|       2|         6|      185|1/1/2020| 150.4|\n",
            "+--------+----------+---------+--------+------+\n",
            "only showing top 2 rows\n",
            "\n"
          ]
        }
      ]
    },
    {
      "cell_type": "code",
      "source": [
        "itensvendas = spark.read.load(\"/content/download/Atividades/ItensVendas.parquet\")\n",
        "\n",
        "itensvendas.show(2)"
      ],
      "metadata": {
        "colab": {
          "base_uri": "https://localhost:8080/"
        },
        "id": "EsG0w6idF80I",
        "outputId": "f5bc5e28-4e32-4f73-81db-be2138919c5e"
      },
      "execution_count": 6,
      "outputs": [
        {
          "output_type": "stream",
          "name": "stdout",
          "text": [
            "+---------+--------+----------+-------------+----------+--------+----------------+\n",
            "|ProdutoID|VendasID|Quantidade|ValorUnitario|ValorTotal|Desconto|TotalComDesconto|\n",
            "+---------+--------+----------+-------------+----------+--------+----------------+\n",
            "|        2|     400|         2|       9201.0|   18402.0| 6256,68|        12145.32|\n",
            "|        2|     385|         2|       9201.0|   18402.0| 5704,62|        12697.38|\n",
            "+---------+--------+----------+-------------+----------+--------+----------------+\n",
            "only showing top 2 rows\n",
            "\n"
          ]
        }
      ]
    },
    {
      "cell_type": "code",
      "source": [
        "produtos = spark.read.load(\"/content/download/Atividades/Produtos.parquet\")\n",
        "\n",
        "produtos.show(2)"
      ],
      "metadata": {
        "colab": {
          "base_uri": "https://localhost:8080/"
        },
        "id": "U6vqa-nvGKZ9",
        "outputId": "8cfb3a55-b63e-443e-c54b-f0f248c9aa38"
      },
      "execution_count": 7,
      "outputs": [
        {
          "output_type": "stream",
          "name": "stdout",
          "text": [
            "+---------+--------------------+---------+\n",
            "|ProdutoID|             Produto|    Preco|\n",
            "+---------+--------------------+---------+\n",
            "|        1|Bicicleta Aro 29 ...|8.852,00 |\n",
            "|        2|Bicicleta Altools...|9.201,00 |\n",
            "+---------+--------------------+---------+\n",
            "only showing top 2 rows\n",
            "\n"
          ]
        }
      ]
    },
    {
      "cell_type": "code",
      "source": [
        "vendedores = spark.read.load(\"/content/download/Atividades/Vendedores.parquet\")\n",
        "\n",
        "vendedores.show(2)"
      ],
      "metadata": {
        "colab": {
          "base_uri": "https://localhost:8080/"
        },
        "id": "j3o4yjrQGQhW",
        "outputId": "c56fd7a4-c50e-453b-e9b2-f28dddc024a3"
      },
      "execution_count": 8,
      "outputs": [
        {
          "output_type": "stream",
          "name": "stdout",
          "text": [
            "+----------+----------------+\n",
            "|VendedorID|        Vendedor|\n",
            "+----------+----------------+\n",
            "|         1|    Armando Lago|\n",
            "|         2|Capitolino Bahía|\n",
            "+----------+----------------+\n",
            "only showing top 2 rows\n",
            "\n"
          ]
        }
      ]
    },
    {
      "cell_type": "code",
      "source": [
        "spark.sql(\"CREATE DATABASE VendasVarejo\").show()"
      ],
      "metadata": {
        "colab": {
          "base_uri": "https://localhost:8080/"
        },
        "id": "wK3voE0sGU8Y",
        "outputId": "46c54a0c-1508-469c-f070-656bd615fb30"
      },
      "execution_count": 9,
      "outputs": [
        {
          "output_type": "stream",
          "name": "stdout",
          "text": [
            "++\n",
            "||\n",
            "++\n",
            "++\n",
            "\n"
          ]
        }
      ]
    },
    {
      "cell_type": "code",
      "source": [
        "spark.sql(\"use VendasVarejo\").show()"
      ],
      "metadata": {
        "colab": {
          "base_uri": "https://localhost:8080/"
        },
        "id": "EpxVWKcbGdTY",
        "outputId": "3da260b2-503f-4a4c-df79-62ce4373dd64"
      },
      "execution_count": 10,
      "outputs": [
        {
          "output_type": "stream",
          "name": "stdout",
          "text": [
            "++\n",
            "||\n",
            "++\n",
            "++\n",
            "\n"
          ]
        }
      ]
    },
    {
      "cell_type": "code",
      "source": [
        "clientes.write.saveAsTable(\"clientes\")"
      ],
      "metadata": {
        "id": "J8XeZkHHGjb3"
      },
      "execution_count": null,
      "outputs": []
    },
    {
      "cell_type": "code",
      "source": [
        "vendas.write.saveAsTable(\"vendas\")"
      ],
      "metadata": {
        "id": "rPzFIX21GrLS"
      },
      "execution_count": null,
      "outputs": []
    },
    {
      "cell_type": "code",
      "source": [
        "itensvendas.write.saveAsTable(\"itensvendas\")"
      ],
      "metadata": {
        "id": "PDF3ORckGxfH"
      },
      "execution_count": 13,
      "outputs": []
    },
    {
      "cell_type": "code",
      "source": [
        "produtos.write.saveAsTable(\"produtos\")"
      ],
      "metadata": {
        "id": "uiM-H0usG5X3"
      },
      "execution_count": 15,
      "outputs": []
    },
    {
      "cell_type": "code",
      "source": [
        "vendedores.write.saveAsTable(\"vendedores\")"
      ],
      "metadata": {
        "id": "EXFImkVoG_qX"
      },
      "execution_count": 17,
      "outputs": []
    },
    {
      "cell_type": "code",
      "source": [
        "spark.sql(\"show tables\").show()"
      ],
      "metadata": {
        "colab": {
          "base_uri": "https://localhost:8080/"
        },
        "id": "j2WzMJEgHEoo",
        "outputId": "82b8a8e5-549f-454a-d9cb-9bfa68410f4b"
      },
      "execution_count": 19,
      "outputs": [
        {
          "output_type": "stream",
          "name": "stdout",
          "text": [
            "+------------+-----------+-----------+\n",
            "|   namespace|  tableName|isTemporary|\n",
            "+------------+-----------+-----------+\n",
            "|vendasvarejo|   clientes|      false|\n",
            "|vendasvarejo|itensvendas|      false|\n",
            "|vendasvarejo|   produtos|      false|\n",
            "|vendasvarejo|     vendas|      false|\n",
            "|vendasvarejo| vendedores|      false|\n",
            "+------------+-----------+-----------+\n",
            "\n"
          ]
        }
      ]
    },
    {
      "cell_type": "code",
      "source": [
        "spark.sql(\"select * from produtos\").show()"
      ],
      "metadata": {
        "colab": {
          "base_uri": "https://localhost:8080/"
        },
        "id": "QBkRSzLAHH2m",
        "outputId": "575eaa0f-30c5-440e-d36b-741b70c2dbc8"
      },
      "execution_count": 20,
      "outputs": [
        {
          "output_type": "stream",
          "name": "stdout",
          "text": [
            "+---------+--------------------+---------+\n",
            "|ProdutoID|             Produto|    Preco|\n",
            "+---------+--------------------+---------+\n",
            "|        1|Bicicleta Aro 29 ...|8.852,00 |\n",
            "|        2|Bicicleta Altools...|9.201,00 |\n",
            "|        3|Bicicleta Gts Adv...|4.255,00 |\n",
            "|        4|Bicicleta Trinc C...|7.658,00 |\n",
            "|        5|Bicicleta Gometws...|2.966,00 |\n",
            "|        6|Bicicleta Gometws...|2.955,00 |\n",
            "|        7|Capacete Gometws ...|  155,00 |\n",
            "|        8|Luva De Ciclismo ...|  188,00 |\n",
            "|        9|Bermuda Predactor...|  115,00 |\n",
            "|       10|Camiseta Predacto...|  135,00 |\n",
            "+---------+--------------------+---------+\n",
            "\n"
          ]
        }
      ]
    },
    {
      "cell_type": "markdown",
      "source": [
        "## Resposta - 02"
      ],
      "metadata": {
        "id": "1xEjsUz9Mymq"
      }
    },
    {
      "cell_type": "code",
      "source": [
        "sql = \"select c.cliente, v.data, p.produto, vd.vendedor, iv.valortotal\\\n",
        "       from itensvendas iv \\\n",
        "       inner join produtos p on (p.produtoid = iv.produtoid)\\\n",
        "       inner join vendas v on (v.vendasid = iv.vendasid)\\\n",
        "       inner join vendedores vd on (vd.vendedorid = v.vendedorid)\\\n",
        "       inner join clientes c on (c.clienteid = v.clienteid);\""
      ],
      "metadata": {
        "id": "_lmwXM9oHbtZ"
      },
      "execution_count": 27,
      "outputs": []
    },
    {
      "cell_type": "code",
      "source": [
        "spark.sql(sql).show()"
      ],
      "metadata": {
        "colab": {
          "base_uri": "https://localhost:8080/"
        },
        "id": "AQuxDZuqJs5E",
        "outputId": "f4980f15-d624-40a2-a084-867c4dc116ba"
      },
      "execution_count": 31,
      "outputs": [
        {
          "output_type": "stream",
          "name": "stdout",
          "text": [
            "+--------------------+----------+--------------------+----------------+----------+\n",
            "|             cliente|      data|             produto|        vendedor|valortotal|\n",
            "+--------------------+----------+--------------------+----------------+----------+\n",
            "|    Humberto Almeida|28/12/2019|Bicicleta Altools...|   Iberê Lacerda|   18402.0|\n",
            "|   Bárbara Magalhães|15/12/2020|Bicicleta Altools...|  Hélio Liberato|   18402.0|\n",
            "|        Artur Macedo|22/12/2018|Bicicleta Trinc C...|  Hélio Liberato|   13784.4|\n",
            "|    Dinarte Tabalipa| 1/12/2020|Bicicleta Trinc C...|   Daniel Pirajá|   13018.6|\n",
            "|      Humberto Lemes|12/12/2019|Bicicleta Altools...|    Simão Rivero|  14077.54|\n",
            "|    Antão Corte-Real|16/11/2018|Bicicleta Altools...|   Iberê Lacerda|   16561.8|\n",
            "|Cândido Sousa do ...|10/11/2018|Bicicleta Altools...|   Daniel Pirajá|   16561.8|\n",
            "|      Brígida Gusmão|23/12/2019|Bicicleta Altools...|  Hélio Liberato|    9201.0|\n",
            "|    Antão Corte-Real|16/11/2018|Bicicleta Aro 29 ...|   Iberê Lacerda|   15933.6|\n",
            "|   Gertrudes Rabello|  5/9/2019|Bicicleta Altools...|  Hélio Liberato|   16561.8|\n",
            "|       Adélio Lisboa|23/11/2019|Bicicleta Trinc C...|  Hélio Liberato|  11716.74|\n",
            "|   Francisca Ramallo| 9/12/2020|Bicicleta Altools...|Jéssica Castelão|    8280.9|\n",
            "|       Adélio Lisboa| 5/12/2019|Bicicleta Altools...|    Armando Lago|    9201.0|\n",
            "|      Brígida Gusmão|23/12/2019|Bicicleta Aro 29 ...|  Hélio Liberato|    7524.2|\n",
            "|    Antão Corte-Real|15/10/2020|Bicicleta Altools...|    Armando Lago|   16561.8|\n",
            "|Cândido Sousa do ...|24/11/2018|Bicicleta Trinc C...|Jéssica Castelão|   13018.6|\n",
            "|       Adélio Lisboa| 5/12/2019|Bicicleta Trinc C...|    Armando Lago|    7658.0|\n",
            "|     Adolfo Patrício| 7/11/2020|Bicicleta Gts Adv...|  Hélio Liberato|    8510.0|\n",
            "|      Brígida Gusmão|25/12/2019|Bicicleta Aro 29 ...| Godo Capiperibe|   6771.78|\n",
            "|       Adélio Lisboa| 29/9/2020|Bicicleta Aro 29 ...|Jéssica Castelão|  13543.56|\n",
            "+--------------------+----------+--------------------+----------------+----------+\n",
            "only showing top 20 rows\n",
            "\n"
          ]
        }
      ]
    },
    {
      "cell_type": "code",
      "source": [
        "spark.sql(\"select count(*) as count from itensvendas\").show()"
      ],
      "metadata": {
        "colab": {
          "base_uri": "https://localhost:8080/"
        },
        "id": "Atm8uxu6J5d1",
        "outputId": "64203c1d-f977-413d-aa31-20737ce5c778"
      },
      "execution_count": 32,
      "outputs": [
        {
          "output_type": "stream",
          "name": "stdout",
          "text": [
            "+-----+\n",
            "|count|\n",
            "+-----+\n",
            "|  940|\n",
            "+-----+\n",
            "\n"
          ]
        }
      ]
    }
  ]
}